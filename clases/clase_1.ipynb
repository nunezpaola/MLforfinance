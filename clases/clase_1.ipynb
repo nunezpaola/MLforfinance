{
 "cells": [
  {
   "cell_type": "markdown",
   "metadata": {},
   "source": [
    "## CLASE 1 ML for finance\n",
    "---\n",
    "\n",
    "Medidas de performance:\n",
    "1. MSE\n",
    "2. L1-Loss\n",
    "3. Error rate\n",
    "\n",
    "Separamos al mundo del ML en:\n",
    "1. **Supervised learning**: Tenemos una guía y el *training set* se compone de pares (*features* y *labels*)\n",
    "2. **Unsupervised learning**: No existe guía y el *training set* no posee *labels*. De alguna forma, el algoritmo debe aprender un proceso subyacente en los datos que incluso nosotros no sabemos cuál es. \n",
    "3. **Reinforcement learning**: Existe guía y el *training set* no posee *labels*, pero existe un mecanismo de feedback parcial o *reward*. \n",
    "\n",
    "![image.png](attachment:image.png)\n",
    "\n",
    "Ahora, el campo de las finanzas tiene algunos problemas que en general no se encuentra en otros: 1) los datos no son iid ni estacionarios, 2) el ratio señal ruido es bajísimo, 3) el campo de accionar suele ser muy amplio y hay alta incertidumbre y 4) la interpretabilidad de los resultados es importante. \n"
   ]
  },
  {
   "attachments": {},
   "cell_type": "markdown",
   "metadata": {},
   "source": [
    "## CLASE 1 - Workflow modelo con scikit-learn\n",
    "\n",
    "***\n",
    "### __0. Inicialización__\n",
    "\n",
    "### <p align=\"center\">Imports</p>"
   ]
  },
  {
   "cell_type": "code",
   "execution_count": null,
   "metadata": {},
   "outputs": [],
   "source": [
    "import numpy as np\n",
    "import sklearn.model_selection as sk_ms\n",
    "import sklearn.linear_model as sk_lm\n",
    "import sklearn.svm as sk_sv"
   ]
  },
  {
   "cell_type": "markdown",
   "metadata": {},
   "source": [
    "### <p align=\"center\">Carga de datos</p>\n",
    "\n",
    "En este caso crearemos en forma manual datos sintéticos (veremos luego que sklearn tiene helpers para esto). __Típicamente__ aquí se importan de alguna fuente externa."
   ]
  },
  {
   "cell_type": "code",
   "execution_count": null,
   "metadata": {},
   "outputs": [],
   "source": [
    "rng = np.random.default_rng(1234)  # Seed number 1234\n",
    "X = rng.uniform(size=(1000, 5))\n",
    "y = 2. + X @ np.array([1., 3., -2., 7., 5.]) + np.random.normal(size=1000)"
   ]
  },
  {
   "attachments": {},
   "cell_type": "markdown",
   "metadata": {},
   "source": [
    "***\n",
    "### __1. Creación de Training y Testing Sets__\n",
    "\n",
    "Se fija el `random_state` en `1234` para obtener siempre el mismo train-test set. Sacar para su uso real."
   ]
  },
  {
   "cell_type": "code",
   "execution_count": null,
   "metadata": {},
   "outputs": [],
   "source": [
    "X_tr, X_te, y_tr, y_te = sk_ms.train_test_split(X, y, test_size=.1,\n",
    "                                                random_state=1234)"
   ]
  },
  {
   "attachments": {},
   "cell_type": "markdown",
   "metadata": {},
   "source": [
    "***\n",
    "### __2. Definición de los modelos__"
   ]
  },
  {
   "cell_type": "code",
   "execution_count": null,
   "metadata": {},
   "outputs": [],
   "source": [
    "lr = sk_lm.LinearRegression()  # Modelo Lineal\n",
    "svr = sk_sv.SVR(gamma='scale')  # Support Vector Regression"
   ]
  },
  {
   "attachments": {},
   "cell_type": "markdown",
   "metadata": {},
   "source": [
    "***\n",
    "### __3. Comparación de performance utilizando técnicas de muestreo (ej. Cross-Validation)__\n",
    "\n",
    "Uso para esto el training set."
   ]
  },
  {
   "cell_type": "code",
   "execution_count": null,
   "metadata": {},
   "outputs": [],
   "source": [
    "print('Regresión Lineal')\n",
    "lr_cv = sk_ms.cross_val_score(lr, X_tr, y_tr, cv=5)\n",
    "print('CV-scores:', lr_cv)\n",
    "print(f'CV-scores Mean = {lr_cv.mean():.4f}')\n",
    "\n",
    "print('\\nSupport Vector Regression')\n",
    "svr_cv = sk_ms.cross_val_score(svr, X_tr, y_tr, cv=5)\n",
    "print('CV-scores:',svr_cv)\n",
    "print(f'CV-scores Mean = {svr_cv.mean():.4f}')"
   ]
  },
  {
   "attachments": {},
   "cell_type": "markdown",
   "metadata": {},
   "source": [
    "***\n",
    "### __4. Evaluación FINAL del modelo ganador sobre el Testing Set__\n",
    "\n",
    "Este paso __NO__ implica volver a estimar todo si el poder predictivo es malo, sino simplemente entender cómo se comporta nuestro mejor modelo out-of-sample. Si la performance no es la deseada lamentablemente no debería ser aplicado. Habría que seguir investigando y __ESPERAR__ la existencia de nuevos datos para volver a aplicar el workflow, de lo contrario estaríamos haciendo overfitting."
   ]
  },
  {
   "cell_type": "code",
   "execution_count": null,
   "metadata": {},
   "outputs": [],
   "source": [
    "lr.fit(X_tr, y_tr)\n",
    "print(f'Testing Set Score : {lr.score(X_te, y_te):.2%}')"
   ]
  },
  {
   "attachments": {},
   "cell_type": "markdown",
   "metadata": {},
   "source": [
    "***\n",
    "### __5. Entrenamiento final sobre Dataset completo para puesta en producción__\n",
    "\n",
    "__Sólo__ se realiza si la performance de 4. cumple con el umbral deseado."
   ]
  },
  {
   "cell_type": "code",
   "execution_count": null,
   "metadata": {},
   "outputs": [],
   "source": [
    "lr.fit(X, y)\n",
    "\n",
    "print(f'Coeficientes = {lr.coef_}')\n",
    "print(f'Intercepto = {lr.intercept_}')"
   ]
  },
  {
   "attachments": {},
   "cell_type": "markdown",
   "metadata": {},
   "source": [
    "***\n",
    "### __6. Uso en producción__"
   ]
  },
  {
   "cell_type": "code",
   "execution_count": null,
   "metadata": {},
   "outputs": [],
   "source": [
    "print('Predicción para [1., 4., 6., 0., -2.] = ', end='')\n",
    "print(lr.predict([[1., 4., 6., 0., -2.]]))"
   ]
  }
 ],
 "metadata": {
  "interpreter": {
   "hash": "3c69bb9a8ec5b340dca87eca48f611317727b27a694c117377aad55219600d96"
  },
  "kernelspec": {
   "display_name": "Python 3.9.6 64-bit ('ml_env': conda)",
   "name": "python3"
  },
  "language_info": {
   "codemirror_mode": {
    "name": "ipython",
    "version": 3
   },
   "file_extension": ".py",
   "mimetype": "text/x-python",
   "name": "python",
   "nbconvert_exporter": "python",
   "pygments_lexer": "ipython3",
   "version": "3.12.4"
  },
  "orig_nbformat": 4
 },
 "nbformat": 4,
 "nbformat_minor": 2
}
